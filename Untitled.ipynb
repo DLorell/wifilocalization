{
 "cells": [
  {
   "cell_type": "code",
   "execution_count": 1,
   "metadata": {},
   "outputs": [],
   "source": [
    "from os.path import isfile, join\n",
    "from os import listdir\n",
    "import json\n",
    "import matplotlib.pyplot as plt\n",
    "import numpy as np\n",
    "import math\n",
    "import datetime\n",
    "import ast\n",
    "\n",
    "\n",
    "from mpl_toolkits.mplot3d import Axes3D\n",
    "from matplotlib import cm\n",
    "from matplotlib.ticker import LinearLocator, FormatStrFormatter\n",
    "\n",
    "\n",
    "\n",
    "PATH = \"dataset/eea7\"\n",
    "devices = ['80:e6:50:1b:a7:80', 'f8:cf:c5:97:e0:9e', '44:91:60:d3:d6:94', 'ec:d0:9f:db:e8:1f']"
   ]
  },
  {
   "cell_type": "code",
   "execution_count": 2,
   "metadata": {},
   "outputs": [],
   "source": [
    "# These are some functions that take the dataset of .txt files and transform them into something managable.\n",
    "#\n",
    "# That is, a dictionary keyed by the 4 mac addresses, containing lists of each trace (file) for each device.\n",
    "#\n",
    "# E.g. {'mac1':[trace1,trace2,...], 'mac2':[trace1,trace2,....], ...} \n",
    "#\n",
    "#     where \"trace1\" is the list of these entries: {'time':_, 'loc_x':_, ....} found in a single file, pertaining \n",
    "#     only to that e.x. 'mac1' address.\n",
    "#---------------------------------------------------------------------------------------------------------\n",
    "\n",
    "# Parse the dataset\n",
    "# Each file is a list of: \n",
    "# {'time': 1522970319.103242, 'loc_x': 261.0, 'loc_y': 170.4637331897293, 'rss': '-25', 'mac': '80:e6:50:1b:a7:80'}\n",
    "\n",
    "def parseFiles(PATH):\n",
    "    \n",
    "    onlyfiles = [f for f in listdir(PATH) if isfile(join(PATH, f))]\n",
    "\n",
    "    #Each file is a trace of the wifi rss's along one line of one of the three triangles\n",
    "    linetraces = []\n",
    "\n",
    "    for file in onlyfiles:\n",
    "        if not(\".txt\" in file):\n",
    "            continue\n",
    "        with open(join(PATH, file)) as fp:\n",
    "            temp = ast.literal_eval(fp.read())\n",
    "            linetraces.append(temp)\n",
    "    \n",
    "    return(linetraces)\n",
    "        \n",
    "\n",
    "#Make a list of one dictionary per file, with the MAC's as keys to the list of trace-entries for that device\n",
    "# {'mac1':[[trace1],[trace2],...]}\n",
    "def sortByMac(linetraces):\n",
    "\n",
    "    \n",
    "    sortedTraces = []\n",
    "    for trace in linetraces:\n",
    "        sortedTraces.append({})\n",
    "    for sortedTrace in sortedTraces:\n",
    "        for macAddress in devices:\n",
    "            sortedTrace[macAddress] = []\n",
    "    \n",
    "\n",
    "\n",
    "    # For filedata in list of parsed files\n",
    "    for i, trace in enumerate(linetraces):\n",
    "\n",
    "        for entry in trace:\n",
    "            \n",
    "            if not(entry['mac'] in devices):\n",
    "                print(\"Unknown MAC address. We have a problem.\")\n",
    "                exit(1)\n",
    "                \n",
    "            sortedTraces[i][entry['mac']].append(entry)\n",
    "            \n",
    "    sortedTraces2 = {}\n",
    "    for device in devices:\n",
    "        sortedTraces2[device] = []\n",
    "    for datafile in sortedTraces:\n",
    "        for mac in datafile.keys():\n",
    "            sortedTraces2[mac].append(datafile[mac])\n",
    "            \n",
    "    return(sortedTraces2)\n"
   ]
  },
  {
   "cell_type": "code",
   "execution_count": 3,
   "metadata": {},
   "outputs": [],
   "source": [
    "sortedTraces = sortByMac(parseFiles(PATH))\n"
   ]
  },
  {
   "cell_type": "code",
   "execution_count": 4,
   "metadata": {
    "scrolled": false
   },
   "outputs": [
    {
     "data": {
      "text/plain": [
       "[<matplotlib.lines.Line2D at 0x7f69c048bd30>]"
      ]
     },
     "execution_count": 4,
     "metadata": {},
     "output_type": "execute_result"
    },
    {
     "data": {
      "image/png": "[encoded data removed]",
      "text/plain": [
       "<Figure size 432x288 with 1 Axes>"
      ]
     },
     "metadata": {
      "needs_background": "light"
     },
     "output_type": "display_data"
    }
   ],
   "source": [
    "traces44 = sortedTraces['44:91:60:d3:d6:94']\n",
    "\n",
    "rss = [float(entry['rss']) for entry in traces44[0]]\n",
    "loc_x = [entry['loc_x'] for entry in traces44[0]]\n",
    "\n",
    "plt.title(\"RSS as a Function of x location\")\n",
    "plt.xlabel(\"Loc_x\")\n",
    "plt.ylabel(\"RSS\")\n",
    "\n",
    "plt.plot(loc_x, rss)"
   ]
  },
  {
   "cell_type": "code",
   "execution_count": 5,
   "metadata": {},
   "outputs": [],
   "source": [
    "def windowedAverage(values, windowSize):\n",
    "    \n",
    "    if len(values) == 0:\n",
    "        return values\n",
    "    \n",
    "    paddedValues = []\n",
    "    for i in range(windowSize//2):\n",
    "        paddedValues.append(values[0])\n",
    "    paddedValues = paddedValues + values\n",
    "    for i in range(windowSize//2):\n",
    "        paddedValues.append(values[-1])\n",
    "    \n",
    "\n",
    "    \n",
    "    newList = []\n",
    "    for i in range(len(values)):\n",
    "        \n",
    "        window = paddedValues[i:i+windowSize]\n",
    "\n",
    "        newList.append(np.mean(window))\n",
    "\n",
    "    \n",
    "    return(newList)      "
   ]
  },
  {
   "cell_type": "code",
   "execution_count": 6,
   "metadata": {},
   "outputs": [
    {
     "data": {
      "text/plain": [
       "[<matplotlib.lines.Line2D at 0x7f69bfa59278>]"
      ]
     },
     "execution_count": 6,
     "metadata": {},
     "output_type": "execute_result"
    },
    {
     "data": {
      "image/png": "[encoded data removed]",
      "text/plain": [
       "<Figure size 432x288 with 1 Axes>"
      ]
     },
     "metadata": {
      "needs_background": "light"
     },
     "output_type": "display_data"
    }
   ],
   "source": [
    "traces44 = sortedTraces['44:91:60:d3:d6:94']\n",
    "k = 0\n",
    "\n",
    "rss = [float(entry['rss']) for entry in traces44[k]]\n",
    "loc_x = [entry['loc_x'] for entry in traces44[k]]\n",
    "loc_y = [entry['loc_y'] for entry in traces44[k]]\n",
    "\n",
    "rss = np.array(windowedAverage(rss, 20))\n",
    "loc_x = np.array(windowedAverage(loc_x, 10))\n",
    "loc_y = np.array(windowedAverage(loc_y, 10))\n",
    "\n",
    "plt.title(\"RSS as a Function of x location\")\n",
    "plt.xlabel(\"Loc_x\")\n",
    "plt.ylabel(\"RSS\")\n",
    "plt.plot(loc_x, rss)"
   ]
  },
  {
   "cell_type": "code",
   "execution_count": 7,
   "metadata": {},
   "outputs": [
    {
     "data": {
      "text/plain": [
       "<matplotlib.collections.PathCollection at 0x7f69c0482d68>"
      ]
     },
     "execution_count": 7,
     "metadata": {},
     "output_type": "execute_result"
    },
    {
     "data": {
      "image/png": "[encoded data removed]",
      "text/plain": [
       "<Figure size 432x288 with 1 Axes>"
      ]
     },
     "metadata": {
      "needs_background": "light"
     },
     "output_type": "display_data"
    }
   ],
   "source": [
    "traces44 = sortedTraces['44:91:60:d3:d6:94']\n",
    "k = 12\n",
    "\n",
    "rss = [float(entry['rss']) for entry in traces44[k]]\n",
    "loc_x = [entry['loc_x'] for entry in traces44[k]]\n",
    "loc_y = [entry['loc_y'] for entry in traces44[k]]\n",
    "\n",
    "\n",
    "rss = np.array(windowedAverage(rss, 7))\n",
    "loc_x = np.array(windowedAverage(loc_x, 10000))\n",
    "loc_y = np.array(windowedAverage(loc_y, 10000))\n",
    "\n",
    "\n",
    "xx = np.ravel(loc_x)\n",
    "yy = np.ravel(loc_y)\n",
    "zz = np.ravel(rss)\n",
    "\n",
    "plt.title(\"RSS as a Function of (x,y) Location\")\n",
    "plt.xlabel(\"Loc_x\")\n",
    "plt.ylabel(\"Loc_y\")\n",
    "plt.scatter(xx,yy,c=zz,cmap=cm.Reds)\n"
   ]
  },
  {
   "cell_type": "raw",
   "metadata": {},
   "source": [
    "Ground Truth of Measurement Locations (with axes flipped as mentioned on piazza)\n",
    "\n",
    "A1 (249, 72)\n",
    "A2 (165, 120)\n",
    "A3 (165, 12)\n",
    "B1 (129, 72)\n",
    "B2 (21, 72)\n",
    "B3 (21, 228)\n",
    "C1 (261, 168)\n",
    "C2 (261, 289)\n",
    "C3 (201, 289)"
   ]
  },
  {
   "cell_type": "code",
   "execution_count": 8,
   "metadata": {
    "scrolled": false
   },
   "outputs": [],
   "source": [
    "#Let's see if we can map out the whole room for a single device's RSS signal\n",
    "\n",
    "def getAllData(traces, rsswindow=1, locwindow=1):\n",
    "    \n",
    "    allData = [[],[],[]]\n",
    "    \n",
    "    #For each trace\n",
    "    for i in range(len(traces)):\n",
    "        rsss = [float(entry['rss']) for entry in traces44[i]]\n",
    "        loc_xs = [entry['loc_x'] for entry in traces44[i]]\n",
    "        loc_ys = [entry['loc_y'] for entry in traces44[i]]\n",
    "        \n",
    "        rss = windowedAverage(rsss, rsswindow)\n",
    "        loc_x = windowedAverage(loc_xs, locwindow)\n",
    "        loc_y = windowedAverage(loc_ys, locwindow)\n",
    "        \n",
    "        allData[0].append(loc_x)\n",
    "        allData[1].append(loc_y)\n",
    "        allData[2].append(rss)\n",
    "    \n",
    "    return(allData)\n",
    "\n",
    "def catAllData(traces, rsswindow=1, locwindow=1):\n",
    "    \n",
    "    datatypes = getAllData(traces, rsswindow, locwindow)\n",
    "    cattedData = [[],[],[]]\n",
    "    \n",
    "    \n",
    "    for i, datatype in enumerate(datatypes):\n",
    "        collector = []\n",
    "        for trace in datatype:\n",
    "            collector = collector + trace\n",
    "        \n",
    "        cattedData[i].append(np.array(collector))\n",
    "    \n",
    "    cattedData = np.array(cattedData)\n",
    "    (x, y, z) = cattedData.shape\n",
    "    cattedData = cattedData.reshape(x, z)\n",
    "    \n",
    "    return(cattedData)"
   ]
  },
  {
   "cell_type": "code",
   "execution_count": 9,
   "metadata": {
    "scrolled": false
   },
   "outputs": [
    {
     "data": {
      "text/plain": [
       "(3, 3999)"
      ]
     },
     "execution_count": 9,
     "metadata": {},
     "output_type": "execute_result"
    }
   ],
   "source": [
    "traces44 = sortedTraces[devices[3]]\n",
    "\n",
    "allData = catAllData(traces44, rsswindow=10, locwindow=5)\n",
    "\n",
    "allData.shape"
   ]
  },
  {
   "cell_type": "code",
   "execution_count": 10,
   "metadata": {},
   "outputs": [
    {
     "data": {
      "text/plain": [
       "<matplotlib.collections.PathCollection at 0x7f69bfd49518>"
      ]
     },
     "execution_count": 10,
     "metadata": {},
     "output_type": "execute_result"
    },
    {
     "data": {
      "image/png": "[encoded data removed]",
      "text/plain": [
       "<Figure size 432x288 with 1 Axes>"
      ]
     },
     "metadata": {
      "needs_background": "light"
     },
     "output_type": "display_data"
    }
   ],
   "source": [
    "plt.title(\"RSS as a Function of (x,y) Location\")\n",
    "plt.xlabel(\"Loc_x\")\n",
    "plt.ylabel(\"Loc_y\")\n",
    "plt.scatter(-allData[1],-allData[0],c=allData[2],cmap=cm.Reds)"
   ]
  },
  {
   "cell_type": "code",
   "execution_count": null,
   "metadata": {
    "scrolled": true
   },
   "outputs": [],
   "source": [
    "# Now we should seperate the traces by leg of the triangle. So as to compare.\n",
    "# We can then determine the correlation of the traces per leg, and prune those that deviate too far from it.\n",
    "\n",
    "\n",
    "#Bin the traces associated with one MAC address by legs of the triangles.\n",
    "def seperateByLeg(allTracesOfOneMac):\n",
    "    \n",
    "    #TODO\n",
    "\n",
    "    return([tracesLegA1, tracesLegA2, .... , tracesLegC2, tracesLegC3])\n",
    "    \n",
    "\n",
    "#Get a [m = len(tracesOfOneLegOfOneMac) x len(tracesOfOneLegOfOneMac)] matrix where m[i][j] = Corr(trace_i, trace_j) \n",
    "def getLegPairwiseCorrs(allTracesOfOneLegOfOneMac):\n",
    "    \n",
    "    #TODO\n",
    "    \n",
    "    return(pairwiseCorrelationMatrix)\n",
    "\n",
    "# Use the correlation matrix and some threshold to bin the leg traces into clusters\n",
    "def determineTraceClusters(allTracesOfOneLegOfOneMac, pairwiseCorrelationMatrix, correlationParamter = 0.8):\n",
    "    \n",
    "    #TODO\n",
    "    \n",
    "    return(tracesOfOneLegOfOneMacBinnedByCorrelativeClusters)\n",
    "\n",
    "\n",
    "# Now we can choose the largest or most correlated cluster, whatever works best, and throw out all the \n",
    "# other traces for that leg.\n"
   ]
  },
  {
   "cell_type": "code",
   "execution_count": null,
   "metadata": {},
   "outputs": [],
   "source": [
    "# Now that we've cleaned the data up, let's make our AP position estimates.\n",
    "\n",
    "# BIG TODO: THIS DOES NOT WORK IF THE POINT OF STRONGEST RSS ON THE LEG IS AT ONE OF THE ENDPOINTS.\n",
    "# NEED TO REDO THE MATH FOR THIS CASE.\n",
    "\n",
    "#Return the (x,y) coordinates of the strongest RSS value on a given leg trace.\n",
    "def determinePointOfGreatestRSSOnLeg(cleanedTracesOfOneLegOfOneMac):\n",
    "    \n",
    "    #TODO\n",
    "    \n",
    "    return((x,y))\n",
    "\n",
    "#Return the greatest RSS strength level on the leg, and the RSS level at the point on the leg furthest from that.\n",
    "def determineRelevantRSSLevels(cleanedTracesOfOneLegOfOneMac, pointOfGreatestRSSOnLeg):\n",
    "    \n",
    "    #TODO\n",
    "    \n",
    "    return({\"greatest\": {\"loc\": (x1,y1), \"rss_val\": rss_val_1}, \"endpoint\": {\"loc\": (x2,y2), \"rss_val\": rss_val_2}})\n",
    "\n",
    "\n",
    "# Given the location and value of the relevant RSS values on a leg, estimate the perpindicular distance of the AP\n",
    "# from the point of maximal RSS value.\n",
    "def estimateDistanceOfPointOnLegOfGreatestRSSValueFromAP(relevantRSSLevelsDict):\n",
    "    \n",
    "    #TODO\n",
    "    \n",
    "    return(b)\n",
    "\n",
    "\n",
    "# TODO the rest of the classification algorithm."
   ]
  }
 ],
 "metadata": {
  "kernelspec": {
   "display_name": "Python 3",
   "language": "python",
   "name": "python3"
  },
  "language_info": {
   "codemirror_mode": {
    "name": "ipython",
    "version": 3
   },
   "file_extension": ".py",
   "mimetype": "text/x-python",
   "name": "python",
   "nbconvert_exporter": "python",
   "pygments_lexer": "ipython3",
   "version": "3.7.0"
  }
 },
 "nbformat": 4,
 "nbformat_minor": 2
}
