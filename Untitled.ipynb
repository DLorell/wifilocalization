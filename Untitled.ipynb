{
 "cells": [
  {
   "cell_type": "code",
   "execution_count": 11,
   "metadata": {},
   "outputs": [],
   "source": [
    "from os.path import isfile, join\n",
    "from os import listdir\n",
    "import json\n",
    "import matplotlib.pyplot as plt\n",
    "import numpy as np\n",
    "import math\n",
    "import datetime\n",
    "import ast\n",
    "\n",
    "PATH = \"dataset/\""
   ]
  },
  {
   "cell_type": "code",
   "execution_count": 16,
   "metadata": {},
   "outputs": [],
   "source": [
    "# Parse the dataset\n",
    "# Each file is a list of: \n",
    "# {'time': 1522970319.103242, 'loc_x': 261.0, 'loc_y': 170.4637331897293, 'rss': '-25', 'mac': '80:e6:50:1b:a7:80'}\n",
    "\n",
    "def parseFiles(PATH):\n",
    "    \n",
    "    onlyfiles = [f for f in listdir(PATH) if isfile(join(PATH, f))]\n",
    "\n",
    "    #Each file is a trace of the wifi rss's along one line of one of the three triangles\n",
    "    linetraces = []\n",
    "\n",
    "    for file in onlyfiles:\n",
    "        with open(join(PATH, file)) as fp:\n",
    "            temp = ast.literal_eval(fp.read())\n",
    "            linetraces.append(temp)\n",
    "    \n",
    "    return(linetraces)\n",
    "        \n",
    "    \n",
    "def sortByMac(linetraces):\n",
    "    \n",
    "    \n",
    "    \n"
   ]
  },
  {
   "cell_type": "code",
   "execution_count": 17,
   "metadata": {},
   "outputs": [
    {
     "data": {
      "text/plain": [
       "158"
      ]
     },
     "execution_count": 17,
     "metadata": {},
     "output_type": "execute_result"
    }
   ],
   "source": [
    "len(rsslists)"
   ]
  },
  {
   "cell_type": "code",
   "execution_count": null,
   "metadata": {},
   "outputs": [],
   "source": []
  }
 ],
 "metadata": {
  "kernelspec": {
   "display_name": "Python 3",
   "language": "python",
   "name": "python3"
  },
  "language_info": {
   "codemirror_mode": {
    "name": "ipython",
    "version": 3
   },
   "file_extension": ".py",
   "mimetype": "text/x-python",
   "name": "python",
   "nbconvert_exporter": "python",
   "pygments_lexer": "ipython3",
   "version": "3.7.0"
  }
 },
 "nbformat": 4,
 "nbformat_minor": 2
}
