{
 "cells": [
  {
   "cell_type": "code",
   "execution_count": 131,
   "metadata": {},
   "outputs": [],
   "source": [
    "from os.path import isfile, join\n",
    "from os import listdir\n",
    "import json\n",
    "import matplotlib.pyplot as plt\n",
    "import numpy as np\n",
    "import math\n",
    "import datetime\n",
    "import ast\n",
    "\n",
    "\n",
    "from mpl_toolkits.mplot3d import Axes3D\n",
    "from matplotlib import cm\n",
    "from matplotlib.ticker import LinearLocator, FormatStrFormatter\n",
    "\n",
    "\n",
    "\n",
    "PATH = \"dataset/eea7\"\n",
    "devices = ['80:e6:50:1b:a7:80', 'f8:cf:c5:97:e0:9e', '44:91:60:d3:d6:94', 'ec:d0:9f:db:e8:1f']"
   ]
  },
  {
   "cell_type": "code",
   "execution_count": 159,
   "metadata": {},
   "outputs": [],
   "source": [
    "# These are some functions that take the dataset of .txt files and transform them into something managable.\n",
    "#\n",
    "# That is, a dictionary keyed by the 4 mac addresses, containing lists of each trace (file) for each device.\n",
    "#\n",
    "# E.g. {'mac1':[trace1,trace2,...], 'mac2':[trace1,trace2,....], ...} \n",
    "#\n",
    "#     where \"trace1\" is the list of these entries: {'time':_, 'loc_x':_, ....} found in a single file, pertaining \n",
    "#     only to that e.x. 'mac1' address.\n",
    "#---------------------------------------------------------------------------------------------------------\n",
    "\n",
    "# Parse the dataset\n",
    "# Each file is a list of: \n",
    "# {'time': 1522970319.103242, 'loc_x': 261.0, 'loc_y': 170.4637331897293, 'rss': '-25', 'mac': '80:e6:50:1b:a7:80'}\n",
    "\n",
    "def parseFiles(PATH):\n",
    "    \n",
    "    onlyfiles = [f for f in listdir(PATH) if isfile(join(PATH, f))]\n",
    "\n",
    "    #Each file is a trace of the wifi rss's along one line of one of the three triangles\n",
    "    linetraces = []\n",
    "\n",
    "    for file in onlyfiles:\n",
    "        if not(\".txt\" in file):\n",
    "            continue\n",
    "        with open(join(PATH, file)) as fp:\n",
    "            temp = ast.literal_eval(fp.read())\n",
    "            linetraces.append(temp)\n",
    "    \n",
    "    return(linetraces)\n",
    "        \n",
    "\n",
    "#Make a list of one dictionary per file, with the MAC's as keys to the list of trace-entries for that device\n",
    "# {'mac1':[[trace1],[trace2],...]}\n",
    "def sortByMac(linetraces):\n",
    "\n",
    "    \n",
    "    sortedTraces = []\n",
    "    for trace in linetraces:\n",
    "        sortedTraces.append({})\n",
    "    for sortedTrace in sortedTraces:\n",
    "        for macAddress in devices:\n",
    "            sortedTrace[macAddress] = []\n",
    "    \n",
    "\n",
    "\n",
    "    # For filedata in list of parsed files\n",
    "    for i, trace in enumerate(linetraces):\n",
    "\n",
    "        for entry in trace:\n",
    "            \n",
    "            if not(entry['mac'] in devices):\n",
    "                print(\"Unknown MAC address. We have a problem.\")\n",
    "                exit(1)\n",
    "            entry[\"rss\"] = float(entry[\"rss\"])\n",
    "            sortedTraces[i][entry['mac']].append(entry)\n",
    "            \n",
    "    sortedTraces2 = {}\n",
    "    for device in devices:\n",
    "        sortedTraces2[device] = []\n",
    "    for datafile in sortedTraces:\n",
    "        for mac in datafile.keys():\n",
    "            sortedTraces2[mac].append(datafile[mac])\n",
    "            \n",
    "    return(sortedTraces2)\n"
   ]
  },
  {
   "cell_type": "code",
   "execution_count": 133,
   "metadata": {},
   "outputs": [],
   "source": [
    "sortedTraces = sortByMac(parseFiles(PATH))\n"
   ]
  },
  {
   "cell_type": "code",
   "execution_count": 134,
   "metadata": {
    "scrolled": false
   },
   "outputs": [
    {
     "data": {
      "text/plain": [
       "[<matplotlib.lines.Line2D at 0x7fec1488e898>]"
      ]
     },
     "execution_count": 134,
     "metadata": {},
     "output_type": "execute_result"
    },
    {
     "data": {
      "image/png": "[encoded data removed]",
      "text/plain": [
       "<Figure size 432x288 with 1 Axes>"
      ]
     },
     "metadata": {
      "needs_background": "light"
     },
     "output_type": "display_data"
    }
   ],
   "source": [
    "traces44 = sortedTraces['44:91:60:d3:d6:94']\n",
    "\n",
    "rss = [float(entry['rss']) for entry in traces44[0]]\n",
    "loc_x = [entry['loc_x'] for entry in traces44[0]]\n",
    "\n",
    "plt.title(\"RSS as a Function of x location\")\n",
    "plt.xlabel(\"Loc_x\")\n",
    "plt.ylabel(\"RSS\")\n",
    "\n",
    "plt.plot(loc_x, rss)"
   ]
  },
  {
   "cell_type": "code",
   "execution_count": 135,
   "metadata": {},
   "outputs": [],
   "source": [
    "def windowedAverage(values, windowSize):\n",
    "    \n",
    "    if len(values) == 0:\n",
    "        return values\n",
    "    \n",
    "    paddedValues = []\n",
    "    for i in range(windowSize//2):\n",
    "        paddedValues.append(values[0])\n",
    "    paddedValues = paddedValues + values\n",
    "    for i in range(windowSize//2):\n",
    "        paddedValues.append(values[-1])\n",
    "    \n",
    "\n",
    "    \n",
    "    newList = []\n",
    "    for i in range(len(values)):\n",
    "        \n",
    "        window = paddedValues[i:i+windowSize]\n",
    "\n",
    "        newList.append(np.mean(window))\n",
    "\n",
    "    \n",
    "    return(newList)      "
   ]
  },
  {
   "cell_type": "code",
   "execution_count": 136,
   "metadata": {},
   "outputs": [
    {
     "data": {
      "text/plain": [
       "[<matplotlib.lines.Line2D at 0x7fec0dc24ef0>]"
      ]
     },
     "execution_count": 136,
     "metadata": {},
     "output_type": "execute_result"
    },
    {
     "data": {
      "image/png": "[encoded data removed]",
      "text/plain": [
       "<Figure size 432x288 with 1 Axes>"
      ]
     },
     "metadata": {
      "needs_background": "light"
     },
     "output_type": "display_data"
    }
   ],
   "source": [
    "traces44 = sortedTraces['44:91:60:d3:d6:94']\n",
    "k = 0\n",
    "\n",
    "rss = [float(entry['rss']) for entry in traces44[k]]\n",
    "loc_x = [entry['loc_x'] for entry in traces44[k]]\n",
    "loc_y = [entry['loc_y'] for entry in traces44[k]]\n",
    "\n",
    "rss = np.array(windowedAverage(rss, 20))\n",
    "loc_x = np.array(windowedAverage(loc_x, 10))\n",
    "loc_y = np.array(windowedAverage(loc_y, 10))\n",
    "\n",
    "plt.title(\"RSS as a Function of x location\")\n",
    "plt.xlabel(\"Loc_x\")\n",
    "plt.ylabel(\"RSS\")\n",
    "plt.plot(loc_x, rss)"
   ]
  },
  {
   "cell_type": "code",
   "execution_count": 137,
   "metadata": {},
   "outputs": [
    {
     "data": {
      "text/plain": [
       "<matplotlib.collections.PathCollection at 0x7fec0deaf128>"
      ]
     },
     "execution_count": 137,
     "metadata": {},
     "output_type": "execute_result"
    },
    {
     "data": {
      "image/png": "[encoded data removed]",
      "text/plain": [
       "<Figure size 432x288 with 1 Axes>"
      ]
     },
     "metadata": {
      "needs_background": "light"
     },
     "output_type": "display_data"
    }
   ],
   "source": [
    "traces44 = sortedTraces['44:91:60:d3:d6:94']\n",
    "k = 12\n",
    "\n",
    "rss = [float(entry['rss']) for entry in traces44[k]]\n",
    "loc_x = [entry['loc_x'] for entry in traces44[k]]\n",
    "loc_y = [entry['loc_y'] for entry in traces44[k]]\n",
    "\n",
    "\n",
    "rss = np.array(windowedAverage(rss, 7))\n",
    "loc_x = np.array(windowedAverage(loc_x, 10000))\n",
    "loc_y = np.array(windowedAverage(loc_y, 10000))\n",
    "\n",
    "\n",
    "xx = np.ravel(loc_x)\n",
    "yy = np.ravel(loc_y)\n",
    "zz = np.ravel(rss)\n",
    "\n",
    "plt.title(\"RSS as a Function of (x,y) Location\")\n",
    "plt.xlabel(\"Loc_x\")\n",
    "plt.ylabel(\"Loc_y\")\n",
    "plt.scatter(xx,yy,c=zz,cmap=cm.Reds)\n"
   ]
  },
  {
   "cell_type": "raw",
   "metadata": {},
   "source": [
    "Ground Truth of Measurement Locations (with axes flipped as mentioned on piazza)\n",
    "\n",
    "A1 (249, 72)\n",
    "A2 (165, 120)\n",
    "A3 (165, 12)\n",
    "B1 (129, 72)\n",
    "B2 (21, 72)\n",
    "B3 (21, 228)\n",
    "C1 (261, 168)\n",
    "C2 (261, 289)\n",
    "C3 (201, 289)"
   ]
  },
  {
   "cell_type": "code",
   "execution_count": 138,
   "metadata": {
    "scrolled": false
   },
   "outputs": [],
   "source": [
    "#Let's see if we can map out the whole room for a single device's RSS signal\n",
    "\n",
    "def getAllData(traces, rsswindow=1, locwindow=1):\n",
    "    \n",
    "    allData = [[],[],[]]\n",
    "    \n",
    "    #For each trace\n",
    "    for i in range(len(traces)):\n",
    "        \n",
    "        rsss = [float(entry['rss']) for entry in traces44[i]]\n",
    "        loc_xs = [entry['loc_x'] for entry in traces44[i]]\n",
    "        loc_ys = [entry['loc_y'] for entry in traces44[i]]\n",
    "        \n",
    "        rss = windowedAverage(rsss, rsswindow)\n",
    "        loc_x = windowedAverage(loc_xs, locwindow)\n",
    "        loc_y = windowedAverage(loc_ys, locwindow)\n",
    "        \n",
    "        allData[0].append(loc_x)\n",
    "        allData[1].append(loc_y)\n",
    "        allData[2].append(rss)\n",
    "    \n",
    "    return(allData)\n",
    "\n",
    "def catAllData(traces, rsswindow=1, locwindow=1):\n",
    "    \n",
    "    datatypes = getAllData(traces, rsswindow, locwindow)\n",
    "    cattedData = [[],[],[]]\n",
    "    \n",
    "    \n",
    "    for i, datatype in enumerate(datatypes):\n",
    "        collector = []\n",
    "        for trace in datatype:\n",
    "            collector = collector + trace\n",
    "        \n",
    "        cattedData[i].append(np.array(collector))\n",
    "    \n",
    "    cattedData = np.array(cattedData)\n",
    "    (x, y, z) = cattedData.shape\n",
    "    cattedData = cattedData.reshape(x, z)\n",
    "    \n",
    "    return(cattedData)"
   ]
  },
  {
   "cell_type": "code",
   "execution_count": 208,
   "metadata": {
    "scrolled": false
   },
   "outputs": [
    {
     "data": {
      "text/plain": [
       "(3, 20219)"
      ]
     },
     "execution_count": 208,
     "metadata": {},
     "output_type": "execute_result"
    }
   ],
   "source": [
    "traces44 = sortedTraces[devices[0]]\n",
    "\n",
    "allData = catAllData(traces44, rsswindow=10, locwindow=5)\n",
    "\n",
    "allData.shape\n"
   ]
  },
  {
   "cell_type": "code",
   "execution_count": 160,
   "metadata": {},
   "outputs": [
    {
     "data": {
      "text/plain": [
       "<matplotlib.collections.PathCollection at 0x7fec0dac9358>"
      ]
     },
     "execution_count": 160,
     "metadata": {},
     "output_type": "execute_result"
    },
    {
     "data": {
      "image/png": "[encoded data removed]",
      "text/plain": [
       "<Figure size 432x288 with 1 Axes>"
      ]
     },
     "metadata": {
      "needs_background": "light"
     },
     "output_type": "display_data"
    }
   ],
   "source": [
    "plt.title(\"RSS as a Function of (x,y) Location\")\n",
    "plt.xlabel(\"Loc_x\")\n",
    "plt.ylabel(\"Loc_y\")\n",
    "plt.scatter(-allData[1],-allData[0],c=allData[2],cmap=cm.Reds)"
   ]
  },
  {
   "cell_type": "code",
   "execution_count": 319,
   "metadata": {
    "scrolled": true
   },
   "outputs": [],
   "source": [
    "# Now we should seperate the traces by leg of the triangle. So as to compare.\n",
    "# We can then determine the correlation of the traces per leg, and prune those that deviate too far from it.\n",
    "\n",
    "#Useful\n",
    "def within(i, target, dev):\n",
    "\n",
    "    if (np.abs(target - i) <= dev):\n",
    "        return(True)\n",
    "    else:\n",
    "        return(False)\n",
    "\n",
    "\n",
    "#Bin the traces associated with one MAC address by legs of the triangles.\n",
    "def seperateByLeg(allTracesOfOneMac):\n",
    "    \n",
    "    bins = {\"A1\":[], \"A2\":[], \"A3\":[], \"B1\":[], \"B2\":[], \"B3\":[], \"C1\":[], \"C2\":[], \"C3\":[]}\n",
    "    dev = 10\n",
    "\n",
    "    \n",
    "    for trace in allTracesOfOneMac:\n",
    "        if len(trace) == 0:\n",
    "            continue\n",
    "        \n",
    "        (x, y) = (trace[0][\"loc_x\"], trace[0][\"loc_y\"])\n",
    "\n",
    "        if within(x, 249, dev) and within(y, 72, dev):\n",
    "            bins[\"A1\"].append(trace)\n",
    "\n",
    "        elif within(x, 165, dev) and within(y, 120, dev):\n",
    "            bins[\"A2\"].append(trace)\n",
    "\n",
    "        elif within(x, 165, dev) and within(y, 12, dev):\n",
    "            bins[\"A3\"].append(trace)\n",
    "\n",
    "        elif within(x, 129, dev) and within(y, 72, dev):\n",
    "            bins[\"B1\"].append(trace)\n",
    "\n",
    "        elif within(x, 21, dev) and within(y, 72, dev):\n",
    "            bins[\"B2\"].append(trace)\n",
    "\n",
    "        elif within(x, 21, dev) and within(y, 228, dev):\n",
    "            bins[\"B3\"].append(trace)\n",
    "\n",
    "        elif within(x, 261, dev) and within(y, 168, dev):\n",
    "            bins[\"C1\"].append(trace)\n",
    "\n",
    "        elif within(x, 261, dev) and within(y, 289, dev):\n",
    "            bins[\"C2\"].append(trace)\n",
    "\n",
    "        elif within(x, 201, dev) and within(y, 289, dev):\n",
    "            bins[\"C3\"].append(trace)\n",
    "\n",
    "        else:\n",
    "            #print(\"Oof: (\" + str(x) + \", \" + str(y) + \")\")\n",
    "            pass\n",
    "\n",
    "    return(bins)\n",
    "    \n",
    "\n",
    "#Get a [m = len(tracesOfOneLegOfOneMac) x len(tracesOfOneLegOfOneMac)] matrix where m[i][j] = Corr(trace_i, trace_j) \n",
    "def getLegPairwiseSquareDiffs(allTracesOfOneLegOfOneMac):\n",
    "    \n",
    "    traces = allTracesOfOneLegOfOneMac\n",
    "    \n",
    "    avgSquareDiffMat = np.zeros((len(traces), len(traces)))\n",
    "    \n",
    "    for i in range(len(traces)):\n",
    "        for j in range(len(traces)):\n",
    "            \n",
    "            if avgSquareDiffMat[j][i] != 0:\n",
    "                avgSquareDiffMat[i][j] = avgSquareDiffMat[j][i]\n",
    "                continue\n",
    "            \n",
    "            \n",
    "            trace1 = traces[i]\n",
    "            trace2 = traces[j]\n",
    "            \n",
    "            l1 = len(trace1)\n",
    "            l2 = len(trace2)\n",
    "            \n",
    "            if l1 < l2:\n",
    "                minL = l1\n",
    "                maxL = l2\n",
    "            else:\n",
    "                minL = l2\n",
    "                maxL = l1\n",
    "            \n",
    "            if (maxL/minL) > 1.5:\n",
    "                #print(\"Woah these traces are way different in length. \" + str(maxL) + \" : \" + str(minL))\n",
    "                pass\n",
    "\n",
    "\n",
    "                \n",
    "            diffs = []\n",
    "            for k in range(minL):\n",
    "                rssDiff = np.sqrt((trace1[k]['rss'] - trace2[k]['rss'])**2)\n",
    "                locXDiff = np.sqrt((trace1[k]['loc_x'] - trace2[k]['loc_x'])**2)\n",
    "                locYDiff = np.sqrt((trace1[k]['loc_y'] - trace2[k]['loc_y'])**2)\n",
    "                \n",
    "                a = 1\n",
    "                b = 0.01\n",
    "                c = 0.01\n",
    "                \n",
    "                diffs.append(a*rssDiff + b*locXDiff + c*locYDiff)\n",
    "            \n",
    "            avg = np.mean(np.array(diffs))\n",
    "            \n",
    "            \n",
    "            avgSquareDiffMat[i][j] = avg\n",
    "\n",
    "    \n",
    "    return(avgSquareDiffMat)\n",
    "\n",
    "# Use the correlation matrix and some threshold to bin the leg traces into clusters\n",
    "def binClusters(allTracesOfOneLegOfOneMac, squareDiffMat, maximumSquareDiff):\n",
    "    \n",
    "    diffMat = squareDiffMat\n",
    "    traces = allTracesOfOneLegOfOneMac\n",
    "                  \n",
    "    clusters = []\n",
    "    \n",
    "    for i, trace in enumerate(traces):\n",
    "        \n",
    "        placed = False\n",
    "        for k, cluster in enumerate(clusters):\n",
    "            \n",
    "            rejected = False\n",
    "            for ctrace in cluster:\n",
    "                \n",
    "                ctraceNum = ctrace[\"id\"]\n",
    "                \n",
    "                if diffMat[i][ctraceNum] == 0:\n",
    "                    rejected = True\n",
    "                    break\n",
    "                \n",
    "                if diffMat[i][ctraceNum] > maximumSquareDiff:\n",
    "                    rejected = True\n",
    "                    break\n",
    "                    \n",
    "            if not(rejected):\n",
    "                clusters[k].append({\"trace\":trace, \"id\":i})\n",
    "                placed = True\n",
    "                break\n",
    "        \n",
    "        if not(placed):\n",
    "            clusters.append([{\"trace\":trace, \"id\":i}])\n",
    "    \n",
    "                \n",
    "    \n",
    "    return(clusters)\n",
    "\n",
    "\n",
    "def getClusterContainingPercentOfData(allTracesOfOneLegOfOneMac, squareDiffMat, percentTarget):\n",
    "    \n",
    "    traces = allTracesOfOneLegOfOneMac\n",
    "    \n",
    "    maxDiff = 0\n",
    "    totalSize = len(traces)\n",
    "    while(True):\n",
    "\n",
    "        binnedClusters = binClusters(traces, squareDiffMat, maxDiff)\n",
    "        \n",
    "        largest = 0\n",
    "        lSize = 0\n",
    "        for i, cluster in enumerate(binnedClusters):\n",
    "            size = len(cluster)\n",
    "            \n",
    "            if size >= lSize:\n",
    "                largest = i\n",
    "                lSize = size\n",
    "        \n",
    "        \n",
    "        \n",
    "        if lSize/totalSize >= percentTarget:\n",
    "            break\n",
    "        \n",
    "        maxDiff += 0.2\n",
    "    \n",
    "    return (lSize, maxDiff, lSize/totalSize, binnedClusters[largest])\n",
    "\n",
    "\n",
    "def tracesToTrace(traces):\n",
    "    \n",
    "    gigaTrace = []\n",
    "    \n",
    "    maxLen = 0\n",
    "    t_id = 'r'\n",
    "    for i in range(len(traces)):\n",
    "        if len(traces[i]) >= maxLen:\n",
    "            maxLen = len(traces[i])\n",
    "            t_id = i\n",
    "    \n",
    "    \n",
    "    for e in range(maxLen):\n",
    "        entry = {'time':traces[t_id][i][\"time\"],'loc_x': [],'loc_y': [],'rss': [],'mac': traces[t_id][i][\"mac\"]}\n",
    "        for t, trace in enumerate(traces):\n",
    "            \n",
    "            if len(trace) < maxLen:\n",
    "                entry['loc_x'].append(float(traces[t_id][e]['loc_x']))\n",
    "                entry['loc_y'].append(float(traces[t_id][e]['loc_y']))\n",
    "                entry['rss'].append(float(traces[t_id][e]['rss']))\n",
    "                continue\n",
    "            \n",
    "            entry['loc_x'].append(float(traces[t][e]['loc_x']))\n",
    "            entry['loc_y'].append(float(traces[t][e]['loc_y']))\n",
    "            entry['rss'].append(float(traces[t][e]['rss']))\n",
    "        \n",
    "        entry['loc_x'] = np.mean(entry['loc_x'])\n",
    "        entry['loc_y'] = np.mean(entry['loc_y'])\n",
    "        entry['rss'] = np.mean(entry['rss'])\n",
    "        \n",
    "        gigaTrace.append(entry)\n",
    "    \n",
    "    return(gigaTrace)\n",
    "         \n",
    "    \n",
    "def clusterToTraces(cluster):\n",
    "    traces = []\n",
    "    for item in cluster:\n",
    "        traces.append(item[\"trace\"])\n",
    "    return(traces)\n",
    "\n",
    "\n",
    "def allTogetherNow(allTracesOfOneMac, percentTarget, rsswindow, locwindow):\n",
    "    \n",
    "    longLegs = seperateByLeg(allTracesOfOneMac)\n",
    "    \n",
    "    finalLegs = {\"A1\":[], \"A2\":[], \"A3\":[], \"B1\":[], \"B2\":[], \"B3\":[], \"C1\":[], \"C2\":[], \"C3\":[]}\n",
    "    \n",
    "    for key in longLegs.keys():\n",
    "        legs = longLegs[key]\n",
    "        diffMat = getLegPairwiseSquareDiffs(legs)\n",
    "        size, diff, percent, cluster = getClusterContainingPercentOfData(legs, diffMat, percentTarget)\n",
    "        \n",
    "        finalLeg = tracesToTrace(clusterToTraces(cluster))\n",
    "        \n",
    "        \n",
    "        if rsswindow > 1 or locwindow > 1:\n",
    "            rsss = [float(entry['rss']) for entry in finalLeg]\n",
    "            loc_xs = [entry['loc_x'] for entry in finalLeg]\n",
    "            loc_ys = [entry['loc_y'] for entry in finalLeg]\n",
    "\n",
    "            rss = windowedAverage(rsss, rsswindow)#[rsswindow//2:(-rsswindow//2)+1]\n",
    "            loc_x = windowedAverage(loc_xs, locwindow)#[locwindow//2:(-locwindow//2)+1]\n",
    "            loc_y = windowedAverage(loc_ys, locwindow)#[locwindow//2:(-locwindow//2)+1]\n",
    "\n",
    "            for i in range(len(finalLeg)):\n",
    "                finalLeg[i][\"rss\"] = rss[i]\n",
    "                finalLeg[i][\"loc_x\"] = loc_x[i]\n",
    "                finalLeg[i][\"loc_y\"] = loc_y[i]\n",
    "            \n",
    "        \n",
    "        finalLegs[key] = finalLeg\n",
    "    \n",
    "    return(finalLegs)\n",
    "\n",
    "# Now we can choose the largest or most correlated cluster, whatever works best, and throw out all the \n",
    "# other traces for that leg.\n",
    "\n",
    "binned44 = seperateByLeg(traces44)\n",
    "legA3 = binned44[\"A3\"]\n",
    "diffMat = getLegPairwiseSquareDiffs(legA3)\n",
    "\n",
    "\n",
    "size, diff, percent, cluster = getClusterContainingPercentOfData(legA3, diffMat, 1)"
   ]
  },
  {
   "cell_type": "code",
   "execution_count": 320,
   "metadata": {},
   "outputs": [
    {
     "data": {
      "text/plain": [
       "<matplotlib.collections.PathCollection at 0x7fec0fd4f908>"
      ]
     },
     "execution_count": 320,
     "metadata": {},
     "output_type": "execute_result"
    },
    {
     "data": {
      "image/png": "[encoded data removed]",
      "text/plain": [
       "<Figure size 432x288 with 1 Axes>"
      ]
     },
     "metadata": {
      "needs_background": "light"
     },
     "output_type": "display_data"
    }
   ],
   "source": [
    "legs = allTogetherNow(sortedTraces[devices[1]], 0.3, rsswindow=50, locwindow=5)\n",
    "\n",
    "processedTraces = []\n",
    "\n",
    "for leg in legs.keys():\n",
    "    processedTraces.append(legs[leg])\n",
    "\n",
    "allData = catAllData(processedTraces, rsswindow=1, locwindow=1)\n",
    "\n",
    "\n",
    "plt.title(\"RSS as a Function of (x,y) Location\")\n",
    "plt.xlabel(\"Loc_x\")\n",
    "plt.ylabel(\"Loc_y\")\n",
    "plt.scatter(-allData[1],-allData[0],c=allData[2],cmap=cm.Reds)"
   ]
  },
  {
   "cell_type": "code",
   "execution_count": 321,
   "metadata": {},
   "outputs": [
    {
     "name": "stdout",
     "output_type": "stream",
     "text": [
      "dict_keys(['A1', 'A2', 'A3', 'B1', 'B2', 'B3', 'C1', 'C2', 'C3'])\n"
     ]
    }
   ],
   "source": [
    "devices = ['80:e6:50:1b:a7:80', 'f8:cf:c5:97:e0:9e', '44:91:60:d3:d6:94', 'ec:d0:9f:db:e8:1f']\n",
    "\n",
    "legs80 = allTogetherNow(sortedTraces[devices[0]], 0.3, rsswindow=50, locwindow=5)\n",
    "legsf8 = allTogetherNow(sortedTraces[devices[1]], 0.3, rsswindow=50, locwindow=5)\n",
    "legs44 = allTogetherNow(sortedTraces[devices[2]], 0.3, rsswindow=50, locwindow=5)\n",
    "legsec = allTogetherNow(sortedTraces[devices[3]], 0.3, rsswindow=50, locwindow=5)\n",
    "\n",
    "\n",
    "print(legs80.keys())"
   ]
  },
  {
   "cell_type": "code",
   "execution_count": null,
   "metadata": {},
   "outputs": [],
   "source": []
  }
 ],
 "metadata": {
  "kernelspec": {
   "display_name": "Python 3",
   "language": "python",
   "name": "python3"
  },
  "language_info": {
   "codemirror_mode": {
    "name": "ipython",
    "version": 3
   },
   "file_extension": ".py",
   "mimetype": "text/x-python",
   "name": "python",
   "nbconvert_exporter": "python",
   "pygments_lexer": "ipython3",
   "version": "3.6.2"
  }
 },
 "nbformat": 4,
 "nbformat_minor": 2
}
